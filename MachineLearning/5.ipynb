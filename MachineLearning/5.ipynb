{
 "cells": [
  {
   "cell_type": "markdown",
   "metadata": {
    "id": "YDkn--vjlx9I"
   },
   "source": [
    "# HW-5: Malware Classification (Due 5th January, 2023)\n",
    "\n",
    "**Instructions:**\n",
    "\n",
    "Suppose your company is struggling with a series of computer virus attacks for the past several months. The viruses were grouped into a few types with some effort. However, it takes a long time to sort out what kind of virus it is when been hit with. Thus, as a senior IT department member, you undertook a project to classify the virus as quickly as possible. You've been given a dataset of the features that may be handy (or not), and  also the associated virus type (target variable). \n",
    "\n",
    "You are supposed to try different classification methods and apply best practices we have seen in the lectures such as grid search, cross validation, regularization etc. To increase your grade you can add more elaboration such as using ensembling or exploiting feature selection/extraction techniques. **An evaluation rubric is provided.**\n",
    "\n",
    "Please prepare a python notebook that describes the steps, present the results as well as your comments. \n",
    "\n",
    "You can download the data (csv file) [here](https://drive.google.com/file/d/1yxbibzUU8bjOyChDVFPfQ4viLduYdk29/view?usp=sharing).\n"
   ]
  },
  {
   "cell_type": "code",
   "execution_count": 1,
   "metadata": {},
   "outputs": [
    {
     "name": "stdout",
     "output_type": "stream",
     "text": [
      "[0.7475    0.7625    0.7175    0.76125   0.7146433]\n",
      "Avg Acc:  0.7406786608260326  std dev:  0.020789283887866186  max:  0.7625\n"
     ]
    }
   ],
   "source": [
    "import numpy as np\n",
    "import pandas as pd\n",
    "from sklearn import datasets\n",
    "from matplotlib import pyplot\n",
    "from sklearn.tree import DecisionTreeClassifier\n",
    "from sklearn.tree import DecisionTreeRegressor\n",
    "from sklearn.linear_model import LogisticRegression\n",
    "from sklearn.linear_model import LinearRegression\n",
    "from sklearn.metrics import confusion_matrix\n",
    "from sklearn.metrics import accuracy_score\n",
    "from sklearn.model_selection import train_test_split\n",
    "from sklearn.model_selection import cross_val_score\n",
    "from sklearn.model_selection import GridSearchCV\n",
    "df = pd.read_csv(\"hw5_data.csv\")\n",
    "\n",
    "#K-fold cross-Validation\n",
    "X = df.drop(columns='target')\n",
    "y = df['target']\n",
    "X_train, X_test, y_train, y_test = train_test_split(X, y, test_size=0.2, random_state=22)\n",
    "tree = DecisionTreeClassifier(max_depth=4)\n",
    "tree.fit(X_train, y_train)\n",
    "scores = cross_val_score(tree,X_train, y_train, cv=5)\n",
    "print(scores)\n",
    "print(\"Avg Acc: \" , scores.mean() , \" std dev: \", scores.std(), \" max: \", scores.max())"
   ]
  },
  {
   "cell_type": "code",
   "execution_count": null,
   "metadata": {},
   "outputs": [],
   "source": [
    "#HyperParameterSearch \n",
    "param_grid = [\n",
    "  {'min_samples_leaf': [1, 5, 10, 20],\n",
    "   'max_depth': [3, 5, 9, 15],\n",
    "   'criterion': ['gini', 'entropy']},\n",
    " ]\n",
    "\n",
    "\n",
    "clf = GridSearchCV(tree, param_grid, cv=5)   # cv = 5\n",
    "clf.fit(X_train, y_train) # it fits xTrain and yTrain.\n",
    "print('Test set score after CV: ', accuracy_score(y_test, clf.predict(X_test)))\n"
   ]
  },
  {
   "cell_type": "code",
   "execution_count": null,
   "metadata": {},
   "outputs": [],
   "source": [
    "#Ensemble\n",
    "import time\n",
    "from sklearn.ensemble import BaggingClassifier\n",
    "from sklearn.ensemble import RandomForestClassifier\n",
    "#First, lets vote among all 3 model types\n",
    "classifiers = [ DecisionTreeClassifier(), \n",
    "               BaggingClassifier(DecisionTreeClassifier(), n_estimators=100, max_samples=0.5, oob_score=True) , \n",
    "               RandomForestClassifier(n_estimators=100, oob_score=True)]\n",
    "names = [\"DecisionTree\", \"Bagged Trees\", \"RandomForest\"]\n",
    "\n",
    "\n",
    "\n",
    "for myModel, m_name in zip(classifiers, names):\n",
    "    t = time.process_time()\n",
    "    myModel.fit(X_train, y_train)\n",
    "    fit_time = time.process_time() - t\n",
    "    print(\"\\t\", m_name, accuracy_score(y_test, myModel.predict(X_test)), \"\\ttime:\", fit_time)\n",
    "    if \"oob_score_\" in dir(myModel):\n",
    "        print(\"\\t\\tOOB:\", myModel.oob_score_)"
   ]
  },
  {
   "cell_type": "code",
   "execution_count": 2,
   "metadata": {},
   "outputs": [
    {
     "name": "stdout",
     "output_type": "stream",
     "text": [
      "Logistic Regression Mutual Info for k=20 --->  0.41348208208208204\n"
     ]
    }
   ],
   "source": [
    "#Filter Method\n",
    "from sklearn.feature_selection import chi2\n",
    "from sklearn.feature_selection import mutual_info_classif\n",
    "from sklearn.feature_selection import GenericUnivariateSelect\n",
    "#from sklearn.feature_selection import SelectKBest\n",
    "mutual_info = mutual_info_classif(X, y) \n",
    "mfSelected = GenericUnivariateSelect(score_func=mutual_info_classif, mode = \"k_best\", param=20)\n",
    "mfSelected.fit(X, y)                        # it fits the data.\n",
    "X_mf = mfSelected.transform(X)              # this line transfroms the data.\n",
    "lr = LogisticRegression(solver='liblinear')\n",
    "print(\"Logistic Regression Mutual Info for k=20 ---> \", cross_val_score(lr, X_mf, y, cv=5).mean())"
   ]
  },
  {
   "cell_type": "code",
   "execution_count": null,
   "metadata": {},
   "outputs": [],
   "source": []
  }
 ],
 "metadata": {
  "colab": {
   "provenance": [
    {
     "file_id": "1ekkdt4NJRpu3Farh-cUQZmoP3q1eRKWG",
     "timestamp": 1536031133585
    },
    {
     "file_id": "1DziSbVqaWErcHDGNfhjupryp5jZFd-t2",
     "timestamp": 1535684058223
    }
   ]
  },
  "kernelspec": {
   "display_name": "Python 3 (ipykernel)",
   "language": "python",
   "name": "python3"
  },
  "language_info": {
   "codemirror_mode": {
    "name": "ipython",
    "version": 3
   },
   "file_extension": ".py",
   "mimetype": "text/x-python",
   "name": "python",
   "nbconvert_exporter": "python",
   "pygments_lexer": "ipython3",
   "version": "3.9.12"
  },
  "nteract": {
   "version": "nteract-front-end@1.0.0"
  }
 },
 "nbformat": 4,
 "nbformat_minor": 1
}
